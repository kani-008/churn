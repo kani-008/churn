# eda.ipynb
import pandas as pd
import seaborn as sns
import matplotlib.pyplot as plt

df = pd.read_csv('../data/telco_churn.csv')  # Adjust path as needed

# Basic info
df.info()
df.describe()
df.isnull().sum()

# Class distribution
sns.countplot(x='Churn', data=df)
plt.title('Churn Distribution')
plt.show()

# Correlation heatmap
plt.figure(figsize=(12, 10))
sns.heatmap(df.corr(), annot=True, cmap='coolwarm')
plt.title('Feature Correlation Heatmap')
plt.show()

# More visuals (histograms, boxplots, etc.)
